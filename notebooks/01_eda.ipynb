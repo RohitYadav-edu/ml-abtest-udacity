{
 "cells": [
  {
   "cell_type": "code",
   "execution_count": 16,
   "id": "bf2ddbf3",
   "metadata": {},
   "outputs": [
    {
     "data": {
      "text/html": [
       "<div>\n",
       "<style scoped>\n",
       "    .dataframe tbody tr th:only-of-type {\n",
       "        vertical-align: middle;\n",
       "    }\n",
       "\n",
       "    .dataframe tbody tr th {\n",
       "        vertical-align: top;\n",
       "    }\n",
       "\n",
       "    .dataframe thead th {\n",
       "        text-align: right;\n",
       "    }\n",
       "</style>\n",
       "<table border=\"1\" class=\"dataframe\">\n",
       "  <thead>\n",
       "    <tr style=\"text-align: right;\">\n",
       "      <th></th>\n",
       "      <th>Date</th>\n",
       "      <th>Pageviews</th>\n",
       "      <th>Clicks</th>\n",
       "      <th>Enrollments</th>\n",
       "      <th>Payments</th>\n",
       "      <th>Group</th>\n",
       "    </tr>\n",
       "  </thead>\n",
       "  <tbody>\n",
       "    <tr>\n",
       "      <th>0</th>\n",
       "      <td>Sat, Oct 11</td>\n",
       "      <td>7723</td>\n",
       "      <td>687</td>\n",
       "      <td>134.0</td>\n",
       "      <td>70.0</td>\n",
       "      <td>control</td>\n",
       "    </tr>\n",
       "    <tr>\n",
       "      <th>1</th>\n",
       "      <td>Sun, Oct 12</td>\n",
       "      <td>9102</td>\n",
       "      <td>779</td>\n",
       "      <td>147.0</td>\n",
       "      <td>70.0</td>\n",
       "      <td>control</td>\n",
       "    </tr>\n",
       "    <tr>\n",
       "      <th>2</th>\n",
       "      <td>Mon, Oct 13</td>\n",
       "      <td>10511</td>\n",
       "      <td>909</td>\n",
       "      <td>167.0</td>\n",
       "      <td>95.0</td>\n",
       "      <td>control</td>\n",
       "    </tr>\n",
       "    <tr>\n",
       "      <th>3</th>\n",
       "      <td>Tue, Oct 14</td>\n",
       "      <td>9871</td>\n",
       "      <td>836</td>\n",
       "      <td>156.0</td>\n",
       "      <td>105.0</td>\n",
       "      <td>control</td>\n",
       "    </tr>\n",
       "    <tr>\n",
       "      <th>4</th>\n",
       "      <td>Wed, Oct 15</td>\n",
       "      <td>10014</td>\n",
       "      <td>837</td>\n",
       "      <td>163.0</td>\n",
       "      <td>64.0</td>\n",
       "      <td>control</td>\n",
       "    </tr>\n",
       "    <tr>\n",
       "      <th>5</th>\n",
       "      <td>Thu, Oct 16</td>\n",
       "      <td>9670</td>\n",
       "      <td>823</td>\n",
       "      <td>138.0</td>\n",
       "      <td>82.0</td>\n",
       "      <td>control</td>\n",
       "    </tr>\n",
       "    <tr>\n",
       "      <th>6</th>\n",
       "      <td>Fri, Oct 17</td>\n",
       "      <td>9008</td>\n",
       "      <td>748</td>\n",
       "      <td>146.0</td>\n",
       "      <td>76.0</td>\n",
       "      <td>control</td>\n",
       "    </tr>\n",
       "    <tr>\n",
       "      <th>7</th>\n",
       "      <td>Sat, Oct 18</td>\n",
       "      <td>7434</td>\n",
       "      <td>632</td>\n",
       "      <td>110.0</td>\n",
       "      <td>70.0</td>\n",
       "      <td>control</td>\n",
       "    </tr>\n",
       "    <tr>\n",
       "      <th>8</th>\n",
       "      <td>Sun, Oct 19</td>\n",
       "      <td>8459</td>\n",
       "      <td>691</td>\n",
       "      <td>131.0</td>\n",
       "      <td>60.0</td>\n",
       "      <td>control</td>\n",
       "    </tr>\n",
       "    <tr>\n",
       "      <th>9</th>\n",
       "      <td>Mon, Oct 20</td>\n",
       "      <td>10667</td>\n",
       "      <td>861</td>\n",
       "      <td>165.0</td>\n",
       "      <td>97.0</td>\n",
       "      <td>control</td>\n",
       "    </tr>\n",
       "    <tr>\n",
       "      <th>10</th>\n",
       "      <td>Tue, Oct 21</td>\n",
       "      <td>10660</td>\n",
       "      <td>867</td>\n",
       "      <td>196.0</td>\n",
       "      <td>105.0</td>\n",
       "      <td>control</td>\n",
       "    </tr>\n",
       "    <tr>\n",
       "      <th>11</th>\n",
       "      <td>Wed, Oct 22</td>\n",
       "      <td>9947</td>\n",
       "      <td>838</td>\n",
       "      <td>162.0</td>\n",
       "      <td>92.0</td>\n",
       "      <td>control</td>\n",
       "    </tr>\n",
       "    <tr>\n",
       "      <th>12</th>\n",
       "      <td>Thu, Oct 23</td>\n",
       "      <td>8324</td>\n",
       "      <td>665</td>\n",
       "      <td>127.0</td>\n",
       "      <td>56.0</td>\n",
       "      <td>control</td>\n",
       "    </tr>\n",
       "    <tr>\n",
       "      <th>13</th>\n",
       "      <td>Fri, Oct 24</td>\n",
       "      <td>9434</td>\n",
       "      <td>673</td>\n",
       "      <td>220.0</td>\n",
       "      <td>122.0</td>\n",
       "      <td>control</td>\n",
       "    </tr>\n",
       "    <tr>\n",
       "      <th>14</th>\n",
       "      <td>Sat, Oct 25</td>\n",
       "      <td>8687</td>\n",
       "      <td>691</td>\n",
       "      <td>176.0</td>\n",
       "      <td>128.0</td>\n",
       "      <td>control</td>\n",
       "    </tr>\n",
       "  </tbody>\n",
       "</table>\n",
       "</div>"
      ],
      "text/plain": [
       "           Date  Pageviews  Clicks  Enrollments  Payments    Group\n",
       "0   Sat, Oct 11       7723     687        134.0      70.0  control\n",
       "1   Sun, Oct 12       9102     779        147.0      70.0  control\n",
       "2   Mon, Oct 13      10511     909        167.0      95.0  control\n",
       "3   Tue, Oct 14       9871     836        156.0     105.0  control\n",
       "4   Wed, Oct 15      10014     837        163.0      64.0  control\n",
       "5   Thu, Oct 16       9670     823        138.0      82.0  control\n",
       "6   Fri, Oct 17       9008     748        146.0      76.0  control\n",
       "7   Sat, Oct 18       7434     632        110.0      70.0  control\n",
       "8   Sun, Oct 19       8459     691        131.0      60.0  control\n",
       "9   Mon, Oct 20      10667     861        165.0      97.0  control\n",
       "10  Tue, Oct 21      10660     867        196.0     105.0  control\n",
       "11  Wed, Oct 22       9947     838        162.0      92.0  control\n",
       "12  Thu, Oct 23       8324     665        127.0      56.0  control\n",
       "13  Fri, Oct 24       9434     673        220.0     122.0  control\n",
       "14  Sat, Oct 25       8687     691        176.0     128.0  control"
      ]
     },
     "execution_count": 16,
     "metadata": {},
     "output_type": "execute_result"
    }
   ],
   "source": [
    "import pandas as pd \n",
    "import matplotlib.pyplot as plt \n",
    "import seaborn as sns\n",
    "\n",
    "# Load control and experiment CSVs\n",
    "experiment = pd.read_csv(\"/Users/rohityadav/Desktop/Git Projects/ml-abtest-udacity/data/Final Project Results - Experiment.csv\")\n",
    "control = pd.read_csv(\"/Users/rohityadav/Desktop/Git Projects/ml-abtest-udacity/data/Final Project Results - Control.csv\")\n",
    "\n",
    "# Tag each group\n",
    "control[\"Group\"] = \"control\"\n",
    "experiment[\"Group\"] = \"experiment\"\n",
    "\n",
    "#Combine into one dataframe\n",
    "df = pd.concat([control, experiment], ignore_index = True)\n",
    "\n",
    "#Take a peek at the data\n",
    "df.head(15)"
   ]
  },
  {
   "cell_type": "code",
   "execution_count": 17,
   "id": "70ea4b7b",
   "metadata": {},
   "outputs": [
    {
     "name": "stdout",
     "output_type": "stream",
     "text": [
      "<class 'pandas.core.frame.DataFrame'>\n",
      "RangeIndex: 74 entries, 0 to 73\n",
      "Data columns (total 6 columns):\n",
      " #   Column       Non-Null Count  Dtype  \n",
      "---  ------       --------------  -----  \n",
      " 0   Date         74 non-null     object \n",
      " 1   Pageviews    74 non-null     int64  \n",
      " 2   Clicks       74 non-null     int64  \n",
      " 3   Enrollments  46 non-null     float64\n",
      " 4   Payments     46 non-null     float64\n",
      " 5   Group        74 non-null     object \n",
      "dtypes: float64(2), int64(2), object(2)\n",
      "memory usage: 3.6+ KB\n"
     ]
    },
    {
     "data": {
      "text/html": [
       "<div>\n",
       "<style scoped>\n",
       "    .dataframe tbody tr th:only-of-type {\n",
       "        vertical-align: middle;\n",
       "    }\n",
       "\n",
       "    .dataframe tbody tr th {\n",
       "        vertical-align: top;\n",
       "    }\n",
       "\n",
       "    .dataframe thead th {\n",
       "        text-align: right;\n",
       "    }\n",
       "</style>\n",
       "<table border=\"1\" class=\"dataframe\">\n",
       "  <thead>\n",
       "    <tr style=\"text-align: right;\">\n",
       "      <th></th>\n",
       "      <th>Pageviews</th>\n",
       "      <th>Clicks</th>\n",
       "      <th>Enrollments</th>\n",
       "      <th>Payments</th>\n",
       "    </tr>\n",
       "  </thead>\n",
       "  <tbody>\n",
       "    <tr>\n",
       "      <th>count</th>\n",
       "      <td>74.000000</td>\n",
       "      <td>74.000000</td>\n",
       "      <td>46.000000</td>\n",
       "      <td>46.000000</td>\n",
       "    </tr>\n",
       "    <tr>\n",
       "      <th>mean</th>\n",
       "      <td>9327.067568</td>\n",
       "      <td>766.256757</td>\n",
       "      <td>156.695652</td>\n",
       "      <td>86.478261</td>\n",
       "    </tr>\n",
       "    <tr>\n",
       "      <th>std</th>\n",
       "      <td>719.455794</td>\n",
       "      <td>66.005616</td>\n",
       "      <td>32.289571</td>\n",
       "      <td>21.730408</td>\n",
       "    </tr>\n",
       "    <tr>\n",
       "      <th>min</th>\n",
       "      <td>7434.000000</td>\n",
       "      <td>632.000000</td>\n",
       "      <td>94.000000</td>\n",
       "      <td>34.000000</td>\n",
       "    </tr>\n",
       "    <tr>\n",
       "      <th>25%</th>\n",
       "      <td>8891.500000</td>\n",
       "      <td>713.000000</td>\n",
       "      <td>131.750000</td>\n",
       "      <td>70.000000</td>\n",
       "    </tr>\n",
       "    <tr>\n",
       "      <th>50%</th>\n",
       "      <td>9379.500000</td>\n",
       "      <td>768.500000</td>\n",
       "      <td>153.500000</td>\n",
       "      <td>91.000000</td>\n",
       "    </tr>\n",
       "    <tr>\n",
       "      <th>75%</th>\n",
       "      <td>9779.000000</td>\n",
       "      <td>826.500000</td>\n",
       "      <td>175.500000</td>\n",
       "      <td>100.750000</td>\n",
       "    </tr>\n",
       "    <tr>\n",
       "      <th>max</th>\n",
       "      <td>10667.000000</td>\n",
       "      <td>909.000000</td>\n",
       "      <td>233.000000</td>\n",
       "      <td>128.000000</td>\n",
       "    </tr>\n",
       "  </tbody>\n",
       "</table>\n",
       "</div>"
      ],
      "text/plain": [
       "          Pageviews      Clicks  Enrollments    Payments\n",
       "count     74.000000   74.000000    46.000000   46.000000\n",
       "mean    9327.067568  766.256757   156.695652   86.478261\n",
       "std      719.455794   66.005616    32.289571   21.730408\n",
       "min     7434.000000  632.000000    94.000000   34.000000\n",
       "25%     8891.500000  713.000000   131.750000   70.000000\n",
       "50%     9379.500000  768.500000   153.500000   91.000000\n",
       "75%     9779.000000  826.500000   175.500000  100.750000\n",
       "max    10667.000000  909.000000   233.000000  128.000000"
      ]
     },
     "execution_count": 17,
     "metadata": {},
     "output_type": "execute_result"
    }
   ],
   "source": [
    "df.info()\n",
    "df.isna().sum()\n",
    "df.nunique()\n",
    "df.describe()"
   ]
  },
  {
   "cell_type": "code",
   "execution_count": 18,
   "id": "35838c8b",
   "metadata": {},
   "outputs": [
    {
     "data": {
      "image/png": "[encoded data removed]",
      "text/plain": [
       "<Figure size 640x480 with 1 Axes>"
      ]
     },
     "metadata": {},
     "output_type": "display_data"
    }
   ],
   "source": [
    "sns.countplot(x=\"Group\", data=df)\n",
    "plt.title(\"Number of users in each group\")\n",
    "plt.xlabel(\"Group\")\n",
    "plt.ylabel(\"Count\")\n",
    "plt.show()"
   ]
  },
  {
   "cell_type": "code",
   "execution_count": 19,
   "id": "15d83304",
   "metadata": {},
   "outputs": [
    {
     "data": {
      "text/plain": [
       "['Date', 'Pageviews', 'Clicks', 'Enrollments', 'Payments', 'Group']"
      ]
     },
     "execution_count": 19,
     "metadata": {},
     "output_type": "execute_result"
    }
   ],
   "source": [
    "df.columns.tolist()"
   ]
  },
  {
   "cell_type": "code",
   "execution_count": 20,
   "id": "491a07a7",
   "metadata": {},
   "outputs": [
    {
     "data": {
      "text/html": [
       "<div>\n",
       "<style scoped>\n",
       "    .dataframe tbody tr th:only-of-type {\n",
       "        vertical-align: middle;\n",
       "    }\n",
       "\n",
       "    .dataframe tbody tr th {\n",
       "        vertical-align: top;\n",
       "    }\n",
       "\n",
       "    .dataframe thead th {\n",
       "        text-align: right;\n",
       "    }\n",
       "</style>\n",
       "<table border=\"1\" class=\"dataframe\">\n",
       "  <thead>\n",
       "    <tr style=\"text-align: right;\">\n",
       "      <th>Group</th>\n",
       "      <th>control</th>\n",
       "      <th>experiment</th>\n",
       "    </tr>\n",
       "  </thead>\n",
       "  <tbody>\n",
       "    <tr>\n",
       "      <th>Pageviews</th>\n",
       "      <td>345543.0</td>\n",
       "      <td>344660.0</td>\n",
       "    </tr>\n",
       "    <tr>\n",
       "      <th>Clicks</th>\n",
       "      <td>28378.0</td>\n",
       "      <td>28325.0</td>\n",
       "    </tr>\n",
       "    <tr>\n",
       "      <th>Enrollments</th>\n",
       "      <td>3785.0</td>\n",
       "      <td>3423.0</td>\n",
       "    </tr>\n",
       "    <tr>\n",
       "      <th>Payments</th>\n",
       "      <td>2033.0</td>\n",
       "      <td>1945.0</td>\n",
       "    </tr>\n",
       "  </tbody>\n",
       "</table>\n",
       "</div>"
      ],
      "text/plain": [
       "Group         control  experiment\n",
       "Pageviews    345543.0    344660.0\n",
       "Clicks        28378.0     28325.0\n",
       "Enrollments    3785.0      3423.0\n",
       "Payments       2033.0      1945.0"
      ]
     },
     "execution_count": 20,
     "metadata": {},
     "output_type": "execute_result"
    }
   ],
   "source": [
    "#Group level summary\n",
    "summary = df.groupby('Group')[['Pageviews', 'Clicks', 'Enrollments', 'Payments']].sum().T\n",
    "summary"
   ]
  },
  {
   "cell_type": "markdown",
   "id": "29d2b4ab",
   "metadata": {},
   "source": [
    "**Explanation**\n",
    "\n",
    "Here, we have two groups: control and experiment. But before doing the comparison we need to have a equivalent reference point. Because we just cannot compare the two groups directly as the sample size is different in each case.\n",
    "\n",
    "For example:\n",
    "\n",
    "If one group has 10000 pageviews and 1000 clicks the click-through rate (CTR) is 1000/10000= 0.1\n",
    "\n",
    "If another group has 8000 pageviews and 960 clicks the click-through rate (CTR) is 960/8000 = 0.12\n",
    "\n",
    "The second group has a higher CTR than the first group even though the sample size is smaller.\n",
    "So, with the help of conversion rates we can compare the two groups fairly."
   ]
  },
  {
   "cell_type": "markdown",
   "id": "7383b6f5",
   "metadata": {},
   "source": [
    "We will have the conversion rates as follows:\n",
    "\n",
    "**CTR = Clicks / Pageviews (What fraction of people who saw the page clicked on it)**\n",
    "\n",
    "**Enrollment Rate = Enrollments / Clicks (What fraction of people who clicked on the page enrolled)**\n",
    "\n",
    "**Payment Rate = Payments / Enrollments (What fraction of people who enrolled made a payment)**"
   ]
  },
  {
   "cell_type": "code",
   "execution_count": 21,
   "id": "8943c5bf",
   "metadata": {},
   "outputs": [
    {
     "data": {
      "text/html": [
       "<div>\n",
       "<style scoped>\n",
       "    .dataframe tbody tr th:only-of-type {\n",
       "        vertical-align: middle;\n",
       "    }\n",
       "\n",
       "    .dataframe tbody tr th {\n",
       "        vertical-align: top;\n",
       "    }\n",
       "\n",
       "    .dataframe thead th {\n",
       "        text-align: right;\n",
       "    }\n",
       "</style>\n",
       "<table border=\"1\" class=\"dataframe\">\n",
       "  <thead>\n",
       "    <tr style=\"text-align: right;\">\n",
       "      <th></th>\n",
       "      <th>CTR (Clicks/PageViews)</th>\n",
       "      <th>Enrollment Rate (Enrollments/Clicks)</th>\n",
       "      <th>Payment Rate (Payments/Enrollments)</th>\n",
       "    </tr>\n",
       "    <tr>\n",
       "      <th>Group</th>\n",
       "      <th></th>\n",
       "      <th></th>\n",
       "      <th></th>\n",
       "    </tr>\n",
       "  </thead>\n",
       "  <tbody>\n",
       "    <tr>\n",
       "      <th>control</th>\n",
       "      <td>0.082126</td>\n",
       "      <td>0.133378</td>\n",
       "      <td>0.537120</td>\n",
       "    </tr>\n",
       "    <tr>\n",
       "      <th>experiment</th>\n",
       "      <td>0.082182</td>\n",
       "      <td>0.120847</td>\n",
       "      <td>0.568215</td>\n",
       "    </tr>\n",
       "  </tbody>\n",
       "</table>\n",
       "</div>"
      ],
      "text/plain": [
       "            CTR (Clicks/PageViews)  Enrollment Rate (Enrollments/Clicks)  \\\n",
       "Group                                                                      \n",
       "control                   0.082126                              0.133378   \n",
       "experiment                0.082182                              0.120847   \n",
       "\n",
       "            Payment Rate (Payments/Enrollments)  \n",
       "Group                                            \n",
       "control                                0.537120  \n",
       "experiment                             0.568215  "
      ]
     },
     "execution_count": 21,
     "metadata": {},
     "output_type": "execute_result"
    }
   ],
   "source": [
    "# Conversion Metric\n",
    "conv_rates = pd.DataFrame({\n",
    "    \"CTR (Clicks/PageViews)\": df.groupby(\"Group\")[\"Clicks\"].sum() / df.groupby(\"Group\")[\"Pageviews\"].sum(),\n",
    "    \"Enrollment Rate (Enrollments/Clicks)\": df.groupby(\"Group\")[\"Enrollments\"].sum() / df.groupby(\"Group\")[\"Clicks\"].sum(),\n",
    "    \"Payment Rate (Payments/Enrollments)\": df.groupby(\"Group\")[\"Payments\"].sum() / df.groupby(\"Group\")[\"Enrollments\"].sum(),\n",
    "})\n",
    "conv_rates"
   ]
  },
  {
   "cell_type": "code",
   "execution_count": 22,
   "id": "5d9cdcc8",
   "metadata": {},
   "outputs": [
    {
     "data": {
      "image/png": "[encoded data removed]",
      "text/plain": [
       "<Figure size 800x1400 with 1 Axes>"
      ]
     },
     "metadata": {},
     "output_type": "display_data"
    }
   ],
   "source": [
    "# Visualize the conversion rates\n",
    "conv_rates.plot(kind=\"bar\", figsize=(8, 14))\n",
    "plt.title(\"Conversion Rates by Groups: Control vs Experiment\")\n",
    "plt.ylabel(\"Conversion Rate\")\n",
    "plt.xticks(rotation=0)\n",
    "plt.legend(loc=\"upper left\")\n",
    "plt.show()"
   ]
  },
  {
   "cell_type": "markdown",
   "id": "34f1eb44",
   "metadata": {},
   "source": [
    "**My Observations:**\n",
    "- The CTR is higher in the experiment group compared to the control group.\n",
    "- The enrollment rate is higher in the control group compared to the experiment group.\n",
    "- The payment rate is higher in the experiment group compared to the control group."
   ]
  },
  {
   "cell_type": "markdown",
   "id": "0f636ed9",
   "metadata": {},
   "source": [
    "**A/B Statistical Testing**"
   ]
  },
  {
   "cell_type": "code",
   "execution_count": 23,
   "id": "5f0b07a9",
   "metadata": {},
   "outputs": [
    {
     "data": {
      "text/html": [
       "<div>\n",
       "<style scoped>\n",
       "    .dataframe tbody tr th:only-of-type {\n",
       "        vertical-align: middle;\n",
       "    }\n",
       "\n",
       "    .dataframe tbody tr th {\n",
       "        vertical-align: top;\n",
       "    }\n",
       "\n",
       "    .dataframe thead th {\n",
       "        text-align: right;\n",
       "    }\n",
       "</style>\n",
       "<table border=\"1\" class=\"dataframe\">\n",
       "  <thead>\n",
       "    <tr style=\"text-align: right;\">\n",
       "      <th></th>\n",
       "      <th>Pageviews</th>\n",
       "      <th>Clicks</th>\n",
       "      <th>Enrollments</th>\n",
       "      <th>Payments</th>\n",
       "    </tr>\n",
       "    <tr>\n",
       "      <th>Group</th>\n",
       "      <th></th>\n",
       "      <th></th>\n",
       "      <th></th>\n",
       "      <th></th>\n",
       "    </tr>\n",
       "  </thead>\n",
       "  <tbody>\n",
       "    <tr>\n",
       "      <th>control</th>\n",
       "      <td>345543</td>\n",
       "      <td>28378</td>\n",
       "      <td>3785.0</td>\n",
       "      <td>2033.0</td>\n",
       "    </tr>\n",
       "    <tr>\n",
       "      <th>experiment</th>\n",
       "      <td>344660</td>\n",
       "      <td>28325</td>\n",
       "      <td>3423.0</td>\n",
       "      <td>1945.0</td>\n",
       "    </tr>\n",
       "  </tbody>\n",
       "</table>\n",
       "</div>"
      ],
      "text/plain": [
       "            Pageviews  Clicks  Enrollments  Payments\n",
       "Group                                               \n",
       "control        345543   28378       3785.0    2033.0\n",
       "experiment     344660   28325       3423.0    1945.0"
      ]
     },
     "execution_count": 23,
     "metadata": {},
     "output_type": "execute_result"
    }
   ],
   "source": [
    "from statsmodels.stats.proportion import proportions_ztest\n",
    "\n",
    "# Prepare Totals\n",
    "summary = df.groupby('Group')[['Pageviews','Clicks','Enrollments','Payments']].sum()\n",
    "summary"
   ]
  },
  {
   "cell_type": "markdown",
   "id": "c84d79de",
   "metadata": {},
   "source": [
    "The next question is: Whether the propoertional difference (like we saw in the previous example 0.1 and 0.12) is statistically different or random noise?\n",
    "\n",
    "To answer this question, we need to perform a statistical test. It is called a **z-test**.\n",
    "\n",
    "The inputs are:\n",
    "\n",
    "1) count: the number of successes (like clicks, enrollments, payments)\n",
    "2) nobs: the number of observations (like pageviews, visitors)"
   ]
  },
  {
   "cell_type": "code",
   "execution_count": 24,
   "id": "32b4732a",
   "metadata": {},
   "outputs": [
    {
     "data": {
      "text/html": [
       "<div>\n",
       "<style scoped>\n",
       "    .dataframe tbody tr th:only-of-type {\n",
       "        vertical-align: middle;\n",
       "    }\n",
       "\n",
       "    .dataframe tbody tr th {\n",
       "        vertical-align: top;\n",
       "    }\n",
       "\n",
       "    .dataframe thead th {\n",
       "        text-align: right;\n",
       "    }\n",
       "</style>\n",
       "<table border=\"1\" class=\"dataframe\">\n",
       "  <thead>\n",
       "    <tr style=\"text-align: right;\">\n",
       "      <th></th>\n",
       "      <th>Metric</th>\n",
       "      <th>Z-Score</th>\n",
       "      <th>P-Value</th>\n",
       "    </tr>\n",
       "  </thead>\n",
       "  <tbody>\n",
       "    <tr>\n",
       "      <th>0</th>\n",
       "      <td>CTR</td>\n",
       "      <td>0.085661</td>\n",
       "      <td>0.931736</td>\n",
       "    </tr>\n",
       "    <tr>\n",
       "      <th>1</th>\n",
       "      <td>Enrollment Rate</td>\n",
       "      <td>-4.478832</td>\n",
       "      <td>0.000008</td>\n",
       "    </tr>\n",
       "    <tr>\n",
       "      <th>2</th>\n",
       "      <td>Payment Rate</td>\n",
       "      <td>2.650928</td>\n",
       "      <td>0.008027</td>\n",
       "    </tr>\n",
       "  </tbody>\n",
       "</table>\n",
       "</div>"
      ],
      "text/plain": [
       "            Metric   Z-Score   P-Value\n",
       "0              CTR  0.085661  0.931736\n",
       "1  Enrollment Rate -4.478832  0.000008\n",
       "2     Payment Rate  2.650928  0.008027"
      ]
     },
     "execution_count": 24,
     "metadata": {},
     "output_type": "execute_result"
    }
   ],
   "source": [
    "# Z Test for each funnel stage\n",
    "\n",
    "# CTR Test\n",
    "clicks = summary.loc[:,'Clicks']\n",
    "pageviews = summary.loc[:,'Pageviews']\n",
    "z_ctr, p_ctr = proportions_ztest(count = [clicks['experiment'], clicks['control']], nobs = [pageviews['experiment'], pageviews['control']])\n",
    "\n",
    "# Enrollment Test\n",
    "enrollments = summary.loc[:,'Enrollments']\n",
    "z_enroll, p_enroll = proportions_ztest(count = [enrollments['experiment'], enrollments['control']], nobs = [clicks['experiment'], clicks['control']])\n",
    "\n",
    "# Payment Test\n",
    "payments = summary.loc[:,'Payments']\n",
    "z_pay, p_pay = proportions_ztest(count = [payments['experiment'], payments['control']], nobs = [enrollments['experiment'], enrollments['control']])\n",
    "\n",
    "#Show results\n",
    "pd.DataFrame({\n",
    "    'Metric': ['CTR', 'Enrollment Rate', 'Payment Rate'],\n",
    "    'Z-Score': [z_ctr, z_enroll, z_pay],\n",
    "    'P-Value': [p_ctr, p_enroll, p_pay],\n",
    "})\n"
   ]
  },
  {
   "cell_type": "markdown",
   "id": "f2a96006",
   "metadata": {},
   "source": [
    "Interpreting results:\n",
    "\n",
    "The p-values:\n",
    "\n",
    "If p < 0.05, the difference is statistically significant.\n",
    "\n",
    "If p ≥ 0.05, the difference is not significant could be random noise."
   ]
  },
  {
   "cell_type": "markdown",
   "id": "6bc806c2",
   "metadata": {},
   "source": [
    "So with the results from the z-test, we can say that:\n",
    "\n",
    "1. The P-value in CTR is 0.931736 which is ≥ 0.05. Therefore, the difference might be random noise.\n",
    "2. The P-value in Enrollment Rate is 0.000008 < 0.05. Here we can say that the experiment improved the enrollment rate.\n",
    "3. The P-value in Payment Rate is 0.008027 < 0.05. Here we can say that the experiment improved the payment rate as well."
   ]
  },
  {
   "cell_type": "markdown",
   "id": "0bfedfa0",
   "metadata": {},
   "source": [
    "This way we can answer questions such as \n",
    "“Should we launch this new design if it increases clicks but reduces enrollments?”"
   ]
  },
  {
   "cell_type": "markdown",
   "id": "985eff3d",
   "metadata": {},
   "source": [
    "**Applying CUPED**\n",
    "\n",
    "CUPED (Controlled Using Pre-Experiment Data) is a variance reduction technique that uses users’ pre-experiment behavior to adjust post-experiment outcomes.\n",
    "It keeps the average treatment effect the same but reduces noise, helping detect smaller differences more reliably."
   ]
  },
  {
   "cell_type": "code",
   "execution_count": 26,
   "id": "1bab1d0e",
   "metadata": {},
   "outputs": [
    {
     "data": {
      "text/plain": [
       "np.float64(0.17585465104288933)"
      ]
     },
     "execution_count": 26,
     "metadata": {},
     "output_type": "execute_result"
    }
   ],
   "source": [
    "# Simulate pre-experiment pageviews\n",
    "import numpy as np\n",
    "\n",
    "np.random.seed(42)\n",
    "df['pageviews_prev'] = df['Pageviews'] * (0.8 + 0.2 * np.random.randn(len(df)))\n",
    "\n",
    "# Calculate theta \n",
    "covariate = df['pageviews_prev']\n",
    "outcome = df['Pageviews']\n",
    "theta = np.cov(covariate, outcome)[0, 1] / np.var(covariate)\n",
    "theta\n"
   ]
  },
  {
   "cell_type": "code",
   "execution_count": 27,
   "id": "6a8d0f17",
   "metadata": {},
   "outputs": [],
   "source": [
    "df['pageviews_cuped'] = df['Pageviews'] - theta * df['pageviews_prev'] - df['Pageviews'].mean()\n"
   ]
  },
  {
   "cell_type": "code",
   "execution_count": 29,
   "id": "8d9eb3de",
   "metadata": {},
   "outputs": [
    {
     "data": {
      "image/png": "[encoded data removed]",
      "text/plain": [
       "<Figure size 640x480 with 1 Axes>"
      ]
     },
     "metadata": {},
     "output_type": "display_data"
    },
    {
     "data": {
      "text/plain": [
       "Group\n",
       "control      -1250.76572\n",
       "experiment   -1328.04364\n",
       "Name: pageviews_cuped, dtype: float64"
      ]
     },
     "execution_count": 29,
     "metadata": {},
     "output_type": "execute_result"
    }
   ],
   "source": [
    "import matplotlib.pyplot as plt\n",
    "sns.boxplot(x='Group', y='pageviews_cuped', data=df)\n",
    "plt.title(\"Pageviews (CUPED adjusted)\")\n",
    "plt.show()\n",
    "\n",
    "df.groupby('Group')['pageviews_cuped'].mean()"
   ]
  },
  {
   "cell_type": "code",
   "execution_count": 30,
   "id": "8d15d171",
   "metadata": {},
   "outputs": [
    {
     "name": "stdout",
     "output_type": "stream",
     "text": [
      "Z-score: -0.515, p-value: 0.60681\n"
     ]
    }
   ],
   "source": [
    "from statsmodels.stats.weightstats import ztest\n",
    "\n",
    "control_vals = df[df['Group']=='control']['pageviews_cuped']\n",
    "exp_vals = df[df['Group']=='experiment']['pageviews_cuped']\n",
    "\n",
    "z_cuped, p_cuped = ztest(exp_vals, control_vals)\n",
    "print(f\"Z-score: {z_cuped:.3f}, p-value: {p_cuped:.5f}\")\n"
   ]
  },
  {
   "cell_type": "markdown",
   "id": "ecd20d80",
   "metadata": {},
   "source": [
    "**Conclusion**\n",
    "\n",
    "Since p > 0.05, the difference between control and experiment is not statistically significant — even after removing noise.\n",
    "\n",
    "That means:\n",
    "\n",
    "CUPED confirms that there’s no real measurable improvement caused by the experiment."
   ]
  }
 ],
 "metadata": {
  "kernelspec": {
   "display_name": ".venv",
   "language": "python",
   "name": "python3"
  },
  "language_info": {
   "codemirror_mode": {
    "name": "ipython",
    "version": 3
   },
   "file_extension": ".py",
   "mimetype": "text/x-python",
   "name": "python",
   "nbconvert_exporter": "python",
   "pygments_lexer": "ipython3",
   "version": "3.13.2"
  }
 },
 "nbformat": 4,
 "nbformat_minor": 5
}
